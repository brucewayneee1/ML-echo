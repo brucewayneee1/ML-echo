{
  "nbformat": 4,
  "nbformat_minor": 0,
  "metadata": {
    "colab": {
      "name": "Untitled0.ipynb",
      "provenance": [],
      "authorship_tag": "ABX9TyOUlV42ebQjGa7VBGJ4d2kt",
      "include_colab_link": true
    },
    "kernelspec": {
      "name": "python3",
      "display_name": "Python 3"
    },
    "language_info": {
      "name": "python"
    },
    "accelerator": "GPU"
  },
  "cells": [
    {
      "cell_type": "markdown",
      "metadata": {
        "id": "view-in-github",
        "colab_type": "text"
      },
      "source": [
        "<a href=\"https://colab.research.google.com/github/brucewayneee1/ML-echo/blob/master/Untitled0.ipynb\" target=\"_parent\"><img src=\"https://colab.research.google.com/assets/colab-badge.svg\" alt=\"Open In Colab\"/></a>"
      ]
    },
    {
      "cell_type": "code",
      "metadata": {
        "id": "QeyjWimaSckF"
      },
      "source": [
        "import torch\n",
        "import torch.nn as nn\n",
        "from torch.utils.data import DataLoader\n",
        "import torch.optim as optim\n",
        "from torch.optim import lr_scheduler\n",
        "from torch.autograd import Variable\n",
        "\n",
        "import cv2\n",
        "import numpy as np\n",
        "import matplotlib.pyplot as plt\n",
        "\n",
        "\n",
        "import torchvision\n",
        "from torchvision import models,transforms\n",
        "from torchvision.datasets import ImageFolder\n",
        "\n",
        "from collections import namedtuple\n",
        "\n",
        "from sklearn.metrics import classification_report"
      ],
      "execution_count": 1,
      "outputs": []
    },
    {
      "cell_type": "code",
      "metadata": {
        "colab": {
          "base_uri": "https://localhost:8080/"
        },
        "id": "UJHWE2vSSkx0",
        "outputId": "64791032-b042-46d2-9012-f783c2293b1a"
      },
      "source": [
        "use_gpu = torch.cuda.is_available()\n",
        "if use_gpu:\n",
        "    print(\"Using CUDA\")\n",
        "else: print(\"Using CPU\")"
      ],
      "execution_count": 2,
      "outputs": [
        {
          "output_type": "stream",
          "name": "stdout",
          "text": [
            "Using CUDA\n"
          ]
        }
      ]
    },
    {
      "cell_type": "code",
      "metadata": {
        "colab": {
          "base_uri": "https://localhost:8080/"
        },
        "id": "uKjAcvxmS037",
        "outputId": "572cc7e6-cd78-478c-a826-66b12399210f"
      },
      "source": [
        "!git clone https://github.com/brucewayneee1/ML-echo"
      ],
      "execution_count": 3,
      "outputs": [
        {
          "output_type": "stream",
          "name": "stdout",
          "text": [
            "Cloning into 'ML-echo'...\n",
            "remote: Enumerating objects: 8337, done.\u001b[K\n",
            "remote: Counting objects: 100% (9/9), done.\u001b[K\n",
            "remote: Compressing objects: 100% (7/7), done.\u001b[K\n",
            "remote: Total 8337 (delta 1), reused 9 (delta 1), pack-reused 8328\u001b[K\n",
            "Receiving objects: 100% (8337/8337), 488.02 MiB | 32.54 MiB/s, done.\n",
            "Resolving deltas: 100% (1/1), done.\n",
            "Checking out files: 100% (8325/8325), done.\n"
          ]
        }
      ]
    },
    {
      "cell_type": "code",
      "metadata": {
        "id": "GxTRh_C7S3Mz"
      },
      "source": [
        "TrainTest = namedtuple('TrainTest', ['train', 'test'])\n",
        "\n",
        "def get_classes():\n",
        "  classes = ['2C', '3C', '4C']\n",
        "  return classes\n",
        "\n",
        "def prepare_data():\n",
        "  transform_train = transforms.Compose([\n",
        "    transforms.Resize((224,224)),\n",
        "    transforms.RandomCrop((224, 224)),\n",
        "    transforms.RandomHorizontalFlip(),                                \n",
        "    transforms.ToTensor(),\n",
        "  ])\n",
        "  transform_test = transforms.Compose([\n",
        "    transforms.Resize((224,224)),\n",
        "    transforms.CenterCrop((224, 224)),\n",
        "    transforms.ToTensor(),\n",
        "  ])\n",
        "  trainset = torchvision.datasets.ImageFolder(root=\"/content/ML-echo/DATA_CHAMBER_2021/train\", transform=transform_train)\n",
        "  testset = torchvision.datasets.ImageFolder(root=\"/content/ML-echo/DATA_CHAMBER_2021/test\", transform=transform_test)\n",
        "  return TrainTest(train=trainset, test=testset)\n",
        "\n",
        "def prepare_loader(datasets):\n",
        "  batch = 32\n",
        "  worker = 4\n",
        "  trainloader = DataLoader(dataset=datasets.train, batch_size=batch, shuffle=True, num_workers=worker)\n",
        "  testloader = DataLoader(dataset=datasets.test, batch_size=batch, shuffle=False, num_workers=worker)\n",
        "  #get a batch\n",
        "  inputs, classes = next(iter(trainloader))\n",
        "  show_databatch(inputs, classes)\n",
        "  return TrainTest(train=trainloader, test=testloader)"
      ],
      "execution_count": 8,
      "outputs": []
    },
    {
      "cell_type": "code",
      "metadata": {
        "id": "nrtKDdQvaRfa"
      },
      "source": [
        "def imshow(inp, title=None):\n",
        "    inp = inp.numpy().transpose((1, 2, 0))\n",
        "    plt.figure(figsize=(10, 10))\n",
        "    plt.axis('off')\n",
        "    plt.imshow(inp)\n",
        "    if title is not None:\n",
        "        plt.title(title)\n",
        "    plt.pause(0.001)\n",
        "\n",
        "def show_databatch(inputs, classes):\n",
        "    class_names = prepare_data().train.classes\n",
        "    out = torchvision.utils.make_grid(inputs)\n",
        "    imshow(out, title=[class_names[x] for x in classes])\n"
      ],
      "execution_count": 9,
      "outputs": []
    },
    {
      "cell_type": "code",
      "metadata": {
        "id": "rWcWKbGES9ry"
      },
      "source": [
        "def train_epoch(epoch, model, loader, loss_func, optimizer, device):\n",
        "  model.train()\n",
        "  running_loss = 0.0\n",
        "  reporting_steps = 40\n",
        "  step = 0\n",
        "  for images, labels in loader:\n",
        "    step += 1\n",
        "    images, labels = images.to(device), labels.to(device)\n",
        "    outputs = model(images)\n",
        "    loss = loss_func(outputs, labels)\n",
        "\n",
        "    optimizer.zero_grad()\n",
        "    loss.backward()\n",
        "    optimizer.step()\n",
        "\n",
        "    running_loss += loss.item()\n",
        "    if step % reporting_steps == reporting_steps - 1:\n",
        "      print(f\"Epoch {epoch} step {step} ave_loss {running_loss/reporting_steps:.4f}\")\n",
        "      running_loss = 0.0\n",
        "\n",
        "def test_epoch(epoch, model, loader, device):\n",
        "  ytrue = []\n",
        "  ypred = []\n",
        "  with torch.no_grad():\n",
        "    model.eval()\n",
        "    for images, labels in loader:\n",
        "      images, labels = images.to(device), labels.to(device)\n",
        "      outputs = model(images)\n",
        "      _, predicted = torch.max(outputs, dim=1)\n",
        "      ytrue += list(labels.cpu().numpy())\n",
        "      ypred += list(predicted.cpu().numpy())\n",
        "\n",
        "  return ypred, ytrue"
      ],
      "execution_count": 5,
      "outputs": []
    },
    {
      "cell_type": "code",
      "metadata": {
        "id": "EXu1ULOVS-sq"
      },
      "source": [
        "def main(model='vgg16'):\n",
        "  classes = get_classes()\n",
        "  datasets = prepare_data()\n",
        "  loaders = prepare_loader(datasets)\n",
        "  device = torch.device(\"cuda\" if torch.cuda.is_available() else \"cpu\")\n",
        "  print(\"Num Images in train set:\", len(datasets.train))\n",
        "  print(\"Num Images in test set:\", len(datasets.test))\n",
        "  print(\"Num batch in train set: \", len(loaders.train))\n",
        "  print(\"class: \", datasets.train.class_to_idx)\n",
        "  print(\"image size: \", datasets.train[0][0].shape)\n",
        "  print(\"device:\", device)\n",
        "\n",
        "  if model == 'vgg16':\n",
        "    PATH='./vgg16.pth'  \n",
        "    model = model = torchvision.models.vgg16()\n",
        "    model.classifier[6] = nn.Linear(in_features=4096, out_features=3)\n",
        "  elif model == 'vgg19':\n",
        "    PATH='./vgg19.pth'\n",
        "    model = torchvision.models.vgg16()\n",
        "    model.classifier[6] = nn.Linear(in_features=4096, out_features=3)\n",
        "  elif model == 'resnet50':\n",
        "    PATH='./resnet50.pth'\n",
        "    model = torchvision.models.vgg16()\n",
        "    model.classifier[6] = nn.Linear(in_features=2048, out_features=3) \n",
        "  \n",
        "  model.to(device)\n",
        "  loss_func = nn.CrossEntropyLoss()\n",
        "  optimizer = torch.optim.SGD(model.parameters(), lr=0.01, momentum=0.9, weight_decay=5e-4)\n",
        "\n",
        "  accuracies = []\n",
        "  for epoch in range(10):\n",
        "    print(\"---------------------------------------------------------------\")\n",
        "    print(f\"\\nEpoch {epoch} report: \")\n",
        "    train_epoch(epoch, model, loaders.train, loss_func, optimizer, device)\n",
        "    ypred_test, ytrue_test = test_epoch(epoch, model, loaders.test, device)\n",
        "    print(\"Test report: \\n\", classification_report(ytrue_test, ypred_test, target_names=classes))\n",
        "\n",
        "  return model"
      ],
      "execution_count": 6,
      "outputs": []
    },
    {
      "cell_type": "code",
      "metadata": {
        "colab": {
          "base_uri": "https://localhost:8080/"
        },
        "id": "_yNmkcbKTGv7",
        "outputId": "49230d3a-faf6-4178-ee2f-3074cb983881"
      },
      "source": [
        "result_VGG16 = main(model='vgg16')"
      ],
      "execution_count": 7,
      "outputs": [
        {
          "output_type": "stream",
          "name": "stderr",
          "text": [
            "/usr/local/lib/python3.7/dist-packages/torch/utils/data/dataloader.py:481: UserWarning: This DataLoader will create 4 worker processes in total. Our suggested max number of worker in current system is 2, which is smaller than what this DataLoader is going to create. Please be aware that excessive worker creation might get DataLoader running slow or even freeze, lower the worker number to avoid potential slowness/freeze if necessary.\n",
            "  cpuset_checked))\n"
          ]
        },
        {
          "output_type": "stream",
          "name": "stdout",
          "text": [
            "Num Images in train set: 6717\n",
            "Num Images in test set: 1607\n",
            "Num batch in train set:  210\n",
            "class:  {'2C': 0, '3C': 1, '4C': 2}\n",
            "image size:  torch.Size([3, 224, 224])\n",
            "device: cuda\n",
            "model: vgg16\n",
            "---------------------------------------------------------------\n",
            "\n",
            "Epoch 0 report: \n"
          ]
        },
        {
          "output_type": "stream",
          "name": "stderr",
          "text": [
            "/usr/local/lib/python3.7/dist-packages/torch/nn/functional.py:718: UserWarning: Named tensors and all their associated APIs are an experimental feature and subject to change. Please do not use them for anything important until they are released as stable. (Triggered internally at  /pytorch/c10/core/TensorImpl.h:1156.)\n",
            "  return torch.max_pool2d(input, kernel_size, stride, padding, dilation, ceil_mode)\n"
          ]
        },
        {
          "output_type": "stream",
          "name": "stdout",
          "text": [
            "Epoch 0 step 39 ave_loss 1.0629\n",
            "Epoch 0 step 79 ave_loss 1.0826\n",
            "Epoch 0 step 119 ave_loss 1.0644\n",
            "Epoch 0 step 159 ave_loss 0.9884\n",
            "Epoch 0 step 199 ave_loss 0.8998\n",
            "Test report: \n",
            "               precision    recall  f1-score   support\n",
            "\n",
            "          2C       0.77      0.33      0.47       409\n",
            "          3C       0.38      0.17      0.24       367\n",
            "          4C       0.64      0.97      0.77       831\n",
            "\n",
            "    accuracy                           0.63      1607\n",
            "   macro avg       0.60      0.49      0.49      1607\n",
            "weighted avg       0.61      0.63      0.57      1607\n",
            "\n",
            "---------------------------------------------------------------\n",
            "\n",
            "Epoch 1 report: \n",
            "Epoch 1 step 39 ave_loss 0.8032\n",
            "Epoch 1 step 79 ave_loss 0.6670\n",
            "Epoch 1 step 119 ave_loss 0.4903\n",
            "Epoch 1 step 159 ave_loss 0.4230\n",
            "Epoch 1 step 199 ave_loss 0.2872\n",
            "Test report: \n",
            "               precision    recall  f1-score   support\n",
            "\n",
            "          2C       0.69      0.94      0.80       409\n",
            "          3C       0.59      0.62      0.61       367\n",
            "          4C       0.88      0.71      0.78       831\n",
            "\n",
            "    accuracy                           0.75      1607\n",
            "   macro avg       0.72      0.76      0.73      1607\n",
            "weighted avg       0.77      0.75      0.75      1607\n",
            "\n",
            "---------------------------------------------------------------\n",
            "\n",
            "Epoch 2 report: \n",
            "Epoch 2 step 39 ave_loss 0.2386\n",
            "Epoch 2 step 79 ave_loss 0.2637\n",
            "Epoch 2 step 119 ave_loss 0.1410\n",
            "Epoch 2 step 159 ave_loss 0.1573\n",
            "Epoch 2 step 199 ave_loss 0.1501\n",
            "Test report: \n",
            "               precision    recall  f1-score   support\n",
            "\n",
            "          2C       0.73      0.94      0.82       409\n",
            "          3C       0.67      0.61      0.64       367\n",
            "          4C       0.90      0.81      0.85       831\n",
            "\n",
            "    accuracy                           0.80      1607\n",
            "   macro avg       0.77      0.79      0.77      1607\n",
            "weighted avg       0.81      0.80      0.80      1607\n",
            "\n",
            "---------------------------------------------------------------\n",
            "\n",
            "Epoch 3 report: \n",
            "Epoch 3 step 39 ave_loss 0.0820\n",
            "Epoch 3 step 79 ave_loss 0.0541\n",
            "Epoch 3 step 119 ave_loss 0.0897\n",
            "Epoch 3 step 159 ave_loss 0.0467\n",
            "Epoch 3 step 199 ave_loss 0.0538\n",
            "Test report: \n",
            "               precision    recall  f1-score   support\n",
            "\n",
            "          2C       0.80      0.99      0.89       409\n",
            "          3C       0.71      0.77      0.73       367\n",
            "          4C       0.92      0.78      0.84       831\n",
            "\n",
            "    accuracy                           0.83      1607\n",
            "   macro avg       0.81      0.84      0.82      1607\n",
            "weighted avg       0.84      0.83      0.83      1607\n",
            "\n",
            "---------------------------------------------------------------\n",
            "\n",
            "Epoch 4 report: \n",
            "Epoch 4 step 39 ave_loss 0.0227\n",
            "Epoch 4 step 79 ave_loss 0.0560\n",
            "Epoch 4 step 119 ave_loss 0.0275\n",
            "Epoch 4 step 159 ave_loss 0.0293\n",
            "Epoch 4 step 199 ave_loss 0.0570\n",
            "Test report: \n",
            "               precision    recall  f1-score   support\n",
            "\n",
            "          2C       0.78      0.93      0.85       409\n",
            "          3C       0.62      0.78      0.69       367\n",
            "          4C       0.91      0.71      0.80       831\n",
            "\n",
            "    accuracy                           0.79      1607\n",
            "   macro avg       0.77      0.81      0.78      1607\n",
            "weighted avg       0.81      0.79      0.79      1607\n",
            "\n",
            "---------------------------------------------------------------\n",
            "\n",
            "Epoch 5 report: \n",
            "Epoch 5 step 39 ave_loss 0.0250\n",
            "Epoch 5 step 79 ave_loss 0.0222\n",
            "Epoch 5 step 119 ave_loss 0.0087\n",
            "Epoch 5 step 159 ave_loss 0.0620\n",
            "Epoch 5 step 199 ave_loss 0.0500\n",
            "Test report: \n",
            "               precision    recall  f1-score   support\n",
            "\n",
            "          2C       0.69      0.78      0.73       409\n",
            "          3C       0.52      0.84      0.64       367\n",
            "          4C       0.91      0.61      0.73       831\n",
            "\n",
            "    accuracy                           0.70      1607\n",
            "   macro avg       0.71      0.74      0.70      1607\n",
            "weighted avg       0.77      0.70      0.71      1607\n",
            "\n",
            "---------------------------------------------------------------\n",
            "\n",
            "Epoch 6 report: \n",
            "Epoch 6 step 39 ave_loss 0.0383\n",
            "Epoch 6 step 79 ave_loss 0.0311\n",
            "Epoch 6 step 119 ave_loss 0.0139\n",
            "Epoch 6 step 159 ave_loss 0.0093\n",
            "Epoch 6 step 199 ave_loss 0.0105\n",
            "Test report: \n",
            "               precision    recall  f1-score   support\n",
            "\n",
            "          2C       0.67      0.89      0.77       409\n",
            "          3C       0.63      0.78      0.70       367\n",
            "          4C       0.89      0.66      0.75       831\n",
            "\n",
            "    accuracy                           0.74      1607\n",
            "   macro avg       0.73      0.78      0.74      1607\n",
            "weighted avg       0.78      0.74      0.74      1607\n",
            "\n",
            "---------------------------------------------------------------\n",
            "\n",
            "Epoch 7 report: \n",
            "Epoch 7 step 39 ave_loss 0.0113\n",
            "Epoch 7 step 79 ave_loss 0.0102\n",
            "Epoch 7 step 119 ave_loss 0.0246\n",
            "Epoch 7 step 159 ave_loss 0.0032\n",
            "Epoch 7 step 199 ave_loss 0.0188\n",
            "Test report: \n",
            "               precision    recall  f1-score   support\n",
            "\n",
            "          2C       0.71      0.87      0.78       409\n",
            "          3C       0.73      0.80      0.76       367\n",
            "          4C       0.94      0.79      0.86       831\n",
            "\n",
            "    accuracy                           0.81      1607\n",
            "   macro avg       0.79      0.82      0.80      1607\n",
            "weighted avg       0.83      0.81      0.82      1607\n",
            "\n",
            "---------------------------------------------------------------\n",
            "\n",
            "Epoch 8 report: \n",
            "Epoch 8 step 39 ave_loss 0.0092\n",
            "Epoch 8 step 79 ave_loss 0.0015\n",
            "Epoch 8 step 119 ave_loss 0.0003\n",
            "Epoch 8 step 159 ave_loss 0.0001\n",
            "Epoch 8 step 199 ave_loss 0.0001\n",
            "Test report: \n",
            "               precision    recall  f1-score   support\n",
            "\n",
            "          2C       0.76      0.93      0.84       409\n",
            "          3C       0.69      0.79      0.74       367\n",
            "          4C       0.92      0.77      0.84       831\n",
            "\n",
            "    accuracy                           0.81      1607\n",
            "   macro avg       0.79      0.83      0.80      1607\n",
            "weighted avg       0.83      0.81      0.81      1607\n",
            "\n",
            "---------------------------------------------------------------\n",
            "\n",
            "Epoch 9 report: \n",
            "Epoch 9 step 39 ave_loss 0.0003\n",
            "Epoch 9 step 79 ave_loss 0.0000\n",
            "Epoch 9 step 119 ave_loss 0.0000\n",
            "Epoch 9 step 159 ave_loss 0.0001\n",
            "Epoch 9 step 199 ave_loss 0.0003\n",
            "Test report: \n",
            "               precision    recall  f1-score   support\n",
            "\n",
            "          2C       0.73      0.93      0.82       409\n",
            "          3C       0.73      0.78      0.75       367\n",
            "          4C       0.92      0.77      0.84       831\n",
            "\n",
            "    accuracy                           0.81      1607\n",
            "   macro avg       0.80      0.83      0.81      1607\n",
            "weighted avg       0.83      0.81      0.82      1607\n",
            "\n"
          ]
        }
      ]
    },
    {
      "cell_type": "code",
      "metadata": {
        "id": "74VwzRkzTQq2"
      },
      "source": [
        "result_VGG19 = main(model='vgg19')"
      ],
      "execution_count": null,
      "outputs": []
    },
    {
      "cell_type": "code",
      "metadata": {
        "id": "Trxw-xKITRSd"
      },
      "source": [
        "result_VGG19 = main(model='resnet50')"
      ],
      "execution_count": null,
      "outputs": []
    }
  ]
}